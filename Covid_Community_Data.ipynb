{
 "cells": [
  {
   "cell_type": "code",
   "execution_count": 432,
   "metadata": {},
   "outputs": [],
   "source": [
    "import scipy as sp\n",
    "import numpy as np\n",
    "import pandas as pd\n",
    "import sklearn\n",
    "import datetime as dt\n",
    "import matplotlib.pyplot as plt"
   ]
  },
  {
   "cell_type": "code",
   "execution_count": 408,
   "metadata": {},
   "outputs": [
    {
     "name": "stdout",
     "output_type": "stream",
     "text": [
      "          Date case_rate cases death_rate deaths               location\n",
      "0   04/15/2020    100.56    21        NaN    NaN   CITY OF AGOURA HILLS\n",
      "1   04/15/2020     42.66    37        NaN    NaN       CITY OF ALHAMBRA\n",
      "2   04/15/2020     43.29    25        NaN    NaN        CITY OF ARCADIA\n",
      "3   04/15/2020     29.77     5        NaN    NaN        CITY OF ARTESIA\n",
      "4   04/15/2020         0     0        NaN    NaN         CITY OF AVALON\n",
      "5   04/15/2020     43.96    22        NaN    NaN          CITY OF AZUSA\n",
      "6   04/15/2020     44.29    34        NaN    NaN   CITY OF BALDWIN PARK\n",
      "7   04/15/2020    176.15    64        NaN    NaN           CITY OF BELL\n",
      "8   04/15/2020     90.55    39        NaN    NaN   CITY OF BELL GARDENS\n",
      "9   04/15/2020     70.75    55        NaN    NaN     CITY OF BELLFLOWER\n",
      "10  04/15/2020    225.96    78        NaN    NaN  CITY OF BEVERLY HILLS\n",
      "11  04/15/2020        --    --        NaN    NaN       CITY OF BRADBURY\n",
      "12  04/15/2020     104.5   112        NaN    NaN        CITY OF BURBANK\n",
      "13  04/15/2020    106.89    26        NaN    NaN      CITY OF CALABASAS\n",
      "14  04/15/2020    141.72   133        NaN    NaN         CITY OF CARSON\n",
      "15  04/15/2020     67.91    34        NaN    NaN       CITY OF CERRITOS\n",
      "16  04/15/2020     35.63    13        NaN    NaN      CITY OF CLAREMONT\n",
      "17  04/15/2020        --    --        NaN    NaN       CITY OF COMMERCE\n",
      "18  04/15/2020     72.07    72        NaN    NaN        CITY OF COMPTON\n",
      "19  04/15/2020    110.13    54        NaN    NaN         CITY OF COVINA\n",
      "20  04/15/2020     98.57    24        NaN    NaN         CITY OF CUDAHY\n",
      "21  04/15/2020     85.29    34        NaN    NaN    CITY OF CULVER CITY\n",
      "22  04/15/2020     38.25    22        NaN    NaN    CITY OF DIAMOND BAR\n",
      "23  04/15/2020     97.14   111        NaN    NaN         CITY OF DOWNEY\n",
      "24  04/15/2020     68.13    15        NaN    NaN         CITY OF DUARTE\n",
      "25  04/15/2020     28.99    34        NaN    NaN       CITY OF EL MONTE\n",
      "26  04/15/2020     71.49    12        NaN    NaN     CITY OF EL SEGUNDO\n",
      "27  04/15/2020    133.75    82        NaN    NaN        CITY OF GARDENA\n",
      "28  04/15/2020    134.63   278        NaN    NaN       CITY OF GLENDALE\n",
      "29  04/15/2020     49.28    26        NaN    NaN       CITY OF GLENDORA\n",
      "30327\n"
     ]
    }
   ],
   "source": [
    "df = pd.read_csv('county_storage.csv')\n",
    "print(df.head(30))\n",
    "print(len(df))"
   ]
  },
  {
   "cell_type": "code",
   "execution_count": 409,
   "metadata": {},
   "outputs": [
    {
     "name": "stdout",
     "output_type": "stream",
     "text": [
      "{'Date': 0, 'case_rate': 0, 'cases': 0, 'death_rate': 9512, 'deaths': 9512, 'location': 0}\n"
     ]
    }
   ],
   "source": [
    "# Let's look at each columns closer to find if there are any more null values.\n",
    "null_each_col={}\n",
    "\n",
    "for col in df.columns:\n",
    "    null_count=df[col].isnull().sum()\n",
    "    null_each_col[col]=null_count\n",
    "print(null_each_col)\n",
    "\n",
    "# There are no null values in 'Date', 'case_rate', ' cases', and 'location' column. \n",
    "# There are 9512 null values in 'death_rate' and 'deaths' column\n",
    "# Those null values could mean either 0 deaths or unknown amount of death count."
   ]
  },
  {
   "cell_type": "code",
   "execution_count": 410,
   "metadata": {},
   "outputs": [
    {
     "name": "stdout",
     "output_type": "stream",
     "text": [
      "        Date case_rate cases death_rate deaths              location\n",
      "0 2020-04-15    100.56    21        NaN    NaN  CITY OF AGOURA HILLS\n",
      "1 2020-04-15     42.66    37        NaN    NaN      CITY OF ALHAMBRA\n",
      "2 2020-04-15     43.29    25        NaN    NaN       CITY OF ARCADIA\n",
      "3 2020-04-15     29.77     5        NaN    NaN       CITY OF ARTESIA\n",
      "4 2020-04-15         0     0        NaN    NaN        CITY OF AVALON\n"
     ]
    }
   ],
   "source": [
    "# Date/Time Cleaning\n",
    "\n",
    "date_format=\"%m/%d/%Y\"\n",
    "\n",
    "new_date_format=[]\n",
    "for date in df['Date']:\n",
    "    date_new=dt.datetime.strptime(date,date_format)\n",
    "    new_date_format.append(date_new)\n",
    "\n",
    "df['Date']=new_date_format\n",
    "print(df.head())"
   ]
  },
  {
   "cell_type": "code",
   "execution_count": 411,
   "metadata": {},
   "outputs": [
    {
     "name": "stdout",
     "output_type": "stream",
     "text": [
      "        Date case_rate cases death_rate deaths      location\n",
      "0 2020-04-15    100.56    21        NaN    NaN  AGOURA HILLS\n",
      "1 2020-04-15     42.66    37        NaN    NaN      ALHAMBRA\n",
      "2 2020-04-15     43.29    25        NaN    NaN       ARCADIA\n",
      "3 2020-04-15     29.77     5        NaN    NaN       ARTESIA\n",
      "4 2020-04-15         0     0        NaN    NaN        AVALON\n"
     ]
    }
   ],
   "source": [
    "# Cleaning location names\n",
    "\n",
    "string1='CITY OF '\n",
    "string2='LOS ANGELES - '\n",
    "string3='UNINCORPORATED - '\n",
    "location=df['location']\n",
    "df['location']=df['location'].str.replace(string1,'')\n",
    "df['location']=df['location'].str.replace(string2,'')\n",
    "df['location']=df['location'].str.replace(string3,'')\n",
    "print(df.head())\n"
   ]
  },
  {
   "cell_type": "code",
   "execution_count": 412,
   "metadata": {},
   "outputs": [
    {
     "data": {
      "text/plain": [
       "30327"
      ]
     },
     "execution_count": 412,
     "metadata": {},
     "output_type": "execute_result"
    }
   ],
   "source": [
    "len(df)"
   ]
  },
  {
   "cell_type": "code",
   "execution_count": 413,
   "metadata": {},
   "outputs": [
    {
     "name": "stdout",
     "output_type": "stream",
     "text": [
      "{'Date': 0, 'case_rate': 472, 'cases': 472, 'death_rate': 9512, 'deaths': 9512, 'location': 0}\n"
     ]
    }
   ],
   "source": [
    "df=df.replace('--',np.nan)\n",
    "\n",
    "# Let's look at each columns closer to find if there are any more null values.\n",
    "null_each_col={}\n",
    "\n",
    "for col in df.columns:\n",
    "    null_count=df[col].isnull().sum()\n",
    "    null_each_col[col]=null_count\n",
    "print(null_each_col)"
   ]
  },
  {
   "cell_type": "code",
   "execution_count": 414,
   "metadata": {},
   "outputs": [
    {
     "name": "stdout",
     "output_type": "stream",
     "text": [
      "30327\n",
      "<class 'pandas.core.frame.DataFrame'>\n",
      "Int64Index: 29791 entries, 0 to 30326\n",
      "Data columns (total 6 columns):\n",
      " #   Column      Non-Null Count  Dtype         \n",
      "---  ------      --------------  -----         \n",
      " 0   Date        29791 non-null  datetime64[ns]\n",
      " 1   case_rate   29791 non-null  float64       \n",
      " 2   cases       29791 non-null  float64       \n",
      " 3   death_rate  20754 non-null  float64       \n",
      " 4   deaths      20754 non-null  float64       \n",
      " 5   location    29791 non-null  object        \n",
      "dtypes: datetime64[ns](1), float64(4), object(1)\n",
      "memory usage: 1.6+ MB\n"
     ]
    }
   ],
   "source": [
    "# Converting object columns to float data type\n",
    "print(len(df))\n",
    "df=df[df['cases'].str.isnumeric()==True]\n",
    "df[['cases','case_rate','death_rate','deaths']]=df[['cases','case_rate','death_rate','deaths']].astype(float)\n",
    "df.info()\n"
   ]
  },
  {
   "cell_type": "code",
   "execution_count": 415,
   "metadata": {},
   "outputs": [
    {
     "name": "stdout",
     "output_type": "stream",
     "text": [
      "29791\n",
      "29791\n"
     ]
    }
   ],
   "source": [
    "print(len(df))\n",
    "df_cases=df.dropna(axis=0,subset=['case_rate','cases'])\n",
    "print(len(df_cases))"
   ]
  },
  {
   "cell_type": "code",
   "execution_count": 416,
   "metadata": {},
   "outputs": [
    {
     "name": "stdout",
     "output_type": "stream",
     "text": [
      "{'Date': 0, 'case_rate': 0, 'cases': 0, 'death_rate': 9037, 'deaths': 9037, 'location': 0}\n"
     ]
    }
   ],
   "source": [
    "\n",
    "for col in df_cases.columns:\n",
    "    null_count=df_cases[col].isnull().sum()\n",
    "    null_each_col[col]=null_count\n",
    "print(null_each_col)"
   ]
  },
  {
   "cell_type": "code",
   "execution_count": 417,
   "metadata": {},
   "outputs": [
    {
     "data": {
      "text/plain": [
       "0    21.0\n",
       "1    37.0\n",
       "2    25.0\n",
       "3     5.0\n",
       "4     0.0\n",
       "5    22.0\n",
       "6    34.0\n",
       "7    64.0\n",
       "8    39.0\n",
       "9    55.0\n",
       "Name: cases, dtype: float64"
      ]
     },
     "execution_count": 417,
     "metadata": {},
     "output_type": "execute_result"
    }
   ],
   "source": [
    "df['Date']\n",
    "df[df['Date']=='2020-04-15']['cases'][:10]\n"
   ]
  },
  {
   "cell_type": "code",
   "execution_count": 440,
   "metadata": {},
   "outputs": [],
   "source": [
    "df_case_sum={}\n",
    "dates=[]\n",
    "case_sums=[]\n",
    "for date in df['Date'].unique():\n",
    "    dates.append(date)\n",
    "    case_sum=df[df['Date']==date]['cases'].sum()\n",
    "    df_case_sum[date]=case_sum\n",
    "    case_sums.append(case_sum)"
   ]
  },
  {
   "cell_type": "code",
   "execution_count": 441,
   "metadata": {},
   "outputs": [
    {
     "data": {
      "text/plain": [
       "[<matplotlib.lines.Line2D at 0x23e56fb5a08>]"
      ]
     },
     "execution_count": 441,
     "metadata": {},
     "output_type": "execute_result"
    },
    {
     "data": {
      "image/png": "[encoded data removed]",
      "text/plain": [
       "<Figure size 432x288 with 1 Axes>"
      ]
     },
     "metadata": {
      "needs_background": "light"
     },
     "output_type": "display_data"
    }
   ],
   "source": [
    "plt.plot(dates,case_sums)"
   ]
  },
  {
   "cell_type": "code",
   "execution_count": null,
   "metadata": {},
   "outputs": [],
   "source": []
  }
 ],
 "metadata": {
  "kernelspec": {
   "display_name": "Python 3",
   "language": "python",
   "name": "python3"
  },
  "language_info": {
   "codemirror_mode": {
    "name": "ipython",
    "version": 3
   },
   "file_extension": ".py",
   "mimetype": "text/x-python",
   "name": "python",
   "nbconvert_exporter": "python",
   "pygments_lexer": "ipython3",
   "version": "3.7.6"
  }
 },
 "nbformat": 4,
 "nbformat_minor": 4
}
